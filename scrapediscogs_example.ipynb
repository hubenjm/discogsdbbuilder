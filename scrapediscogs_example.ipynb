{
 "cells": [
  {
   "cell_type": "code",
   "execution_count": 1,
   "metadata": {
    "collapsed": false
   },
   "outputs": [],
   "source": [
    "from scrapediscogs import MusicDatabase\n",
    "music_db = MusicDatabase('test.db', 85)"
   ]
  },
  {
   "cell_type": "code",
   "execution_count": 2,
   "metadata": {
    "collapsed": false
   },
   "outputs": [
    {
     "name": "stdout",
     "output_type": "stream",
     "text": [
      "2016-12-04 15:55:37,809 - scrapediscogs - INFO - add_data: 1/59 - The Paul Butterfield Blues Band - The Resurrection Of Pigboy Crabshaw\n",
      "2016-12-04 15:55:38,650 - scrapediscogs - INFO - add_data: 2/59 - James Carter (3) - In Carterian Fashion\n",
      "2016-12-04 15:55:39,256 - scrapediscogs - INFO - add_data: 3/59 - James Carter (3) - Heaven On Earth\n",
      "2016-12-04 15:55:39,822 - scrapediscogs - INFO - add_data: 4/59 - Benny Green - Bluebird\n",
      "2016-12-04 15:55:40,367 - scrapediscogs - INFO - add_data: 5/59 - Benny Green - Jazz At The Bistro\n",
      "2016-12-04 15:55:41,279 - scrapediscogs - INFO - add_data: 6/59 - David Sanborn - Inside\n",
      "2016-12-04 15:55:42,124 - scrapediscogs - INFO - add_data: 7/59 - David Sanborn - Upfront\n",
      "2016-12-04 15:55:42,669 - scrapediscogs - INFO - add_data: 8/59 - David Sanborn - Hearsay\n",
      "2016-12-04 15:55:43,223 - scrapediscogs - INFO - add_data: 9/59 - David Sanborn - Pearls\n",
      "2016-12-04 15:55:44,039 - scrapediscogs - INFO - add_data: 10/59 - David Sanborn - Hideaway\n",
      "2016-12-04 15:55:44,584 - scrapediscogs - INFO - add_data: 11/59 - David Sanborn - Timeagain\n",
      "2016-12-04 15:55:45,118 - scrapediscogs - INFO - add_data: 12/59 - David Sanborn - Double Vision\n",
      "2016-12-04 15:55:45,651 - scrapediscogs - INFO - add_data: 13/59 - Seamus Blake - The Call\n",
      "2016-12-04 15:55:46,226 - scrapediscogs - INFO - add_data: 14/59 - Brad Mehldau - 10 Years Solo Live\n",
      "2016-12-04 15:55:46,781 - scrapediscogs - INFO - add_data: 15/59 - Bert Wilson & Rebirth - Endless Fingers\n",
      "2016-12-04 15:55:47,325 - scrapediscogs - INFO - add_data: 16/59 - Hardcoretet - Do It Live\n",
      "2016-12-04 15:55:48,152 - scrapediscogs - INFO - add_data: 17/59 - Dirty Loops - Loopified\n",
      "2016-12-04 15:55:48,995 - scrapediscogs - INFO - add_data: 18/59 - Brad Mehldau - Mehliana (Taming The Dragon)\n",
      "2016-12-04 15:55:49,524 - scrapediscogs - INFO - add_data: 19/59 - Brad Mehldau Trio - Progression: Art Of The Trio, Volume 5\n",
      "2016-12-04 15:55:50,355 - scrapediscogs - INFO - add_data: 20/59 - Béla Fleck & The Flecktones - UFO TOFU\n",
      "2016-12-04 15:55:50,908 - scrapediscogs - INFO - add_data: 21/59 - Spyro Gyra - Got The Magic\n",
      "2016-12-04 15:55:51,735 - scrapediscogs - INFO - add_data: 22/59 - Euge Groove - Livin' Large\n",
      "2016-12-04 15:55:52,643 - scrapediscogs - INFO - add_data: 23/59 - Euge Groove - Play Date\n",
      "2016-12-04 15:56:00,918 - scrapediscogs - INFO - no album found for artist = Tim Green, album = Songs From This Season. skipping...\n",
      "2016-12-04 15:56:01,451 - scrapediscogs - INFO - add_data: 25/59 - Spyro Gyra - The Very Best Of Spyro Gyra\n",
      "2016-12-04 15:56:02,269 - scrapediscogs - INFO - add_data: 26/59 - The Benny Green Trio - Testifyin'!\n",
      "2016-12-04 15:56:03,075 - scrapediscogs - INFO - add_data: 27/59 - Benny Green - Kaleidoscope\n",
      "2016-12-04 15:56:03,617 - scrapediscogs - INFO - add_data: 28/59 - Benny Green - These Are Soulful Days \n",
      "2016-12-04 15:56:08,642 - scrapediscogs - INFO - no album found for artist = Gravity, album = Grimy. skipping...\n",
      "2016-12-04 15:56:09,188 - scrapediscogs - INFO - add_data: 30/59 - Sax Gordon - You Knock Me Out\n",
      "2016-12-04 15:56:13,108 - scrapediscogs - INFO - no album found for artist = Sax Gordon & Doug James, album = Jolly Jump Jive. skipping...\n",
      "2016-12-04 15:56:18,247 - scrapediscogs - INFO - no album found for artist = Doug James & Sax Gordon, album = Swing Jump Jive. skipping...\n",
      "2016-12-04 15:56:18,805 - scrapediscogs - INFO - add_data: 33/59 - Sax Gordon - Have Horn Will Travel\n",
      "2016-12-04 15:56:19,622 - scrapediscogs - INFO - add_data: 34/59 - Herbie Hancock - Round Midnight - Original Motion Picture Soundtrack\n",
      "2016-12-04 15:56:20,157 - scrapediscogs - INFO - add_data: 35/59 - Dexter Gordon - Go!\n",
      "2016-12-04 15:56:24,807 - scrapediscogs - INFO - no album found for artist = Dave Glenn Little Big Band, album = Journeys. skipping...\n",
      "2016-12-04 15:56:25,345 - scrapediscogs - INFO - add_data: 37/59 - Robert Glasper - In My Element\n",
      "2016-12-04 15:56:26,196 - scrapediscogs - INFO - add_data: 38/59 - Robert Glasper - Double Booked\n",
      "2016-12-04 15:56:26,729 - scrapediscogs - INFO - add_data: 39/59 - Stan Getz - People Time\n",
      "2016-12-04 15:56:27,273 - scrapediscogs - INFO - add_data: 40/59 - James Carter (3) - Live At Baker's Keyboard Lounge\n",
      "2016-12-04 15:56:27,826 - scrapediscogs - INFO - add_data: 41/59 - James Carter (3) - Chasin' The Gypsy\n",
      "2016-12-04 15:56:28,365 - scrapediscogs - INFO - add_data: 42/59 - Benny Carter - New Jazz Sounds: The Urbane Sessions\n",
      "2016-12-04 15:56:28,908 - scrapediscogs - INFO - add_data: 43/59 - Tim Carey (2) - Room 114\n",
      "2016-12-04 15:56:29,450 - scrapediscogs - INFO - add_data: 44/59 - BWB (2) - Groovin'\n",
      "2016-12-04 15:56:30,285 - scrapediscogs - INFO - add_data: 45/59 - The Paul Butterfield Blues Band - The Resurrection Of Pigboy Crabshaw\n",
      "2016-12-04 15:56:31,120 - scrapediscogs - INFO - add_data: 46/59 - Kenny Burrell - Midnight Blue\n",
      "2016-12-04 15:56:35,844 - scrapediscogs - INFO - no album found for artist = The Bumblebees, album = Bees of the Invisible. skipping...\n",
      "2016-12-04 15:56:36,404 - scrapediscogs - INFO - add_data: 48/59 - Hiram Bullock - From All Sides\n",
      "2016-12-04 15:56:37,639 - scrapediscogs - INFO - add_data: 49/59 - Hiram Bullock - Carrasco\n",
      "2016-12-04 15:56:38,194 - scrapediscogs - INFO - add_data: 50/59 - Hiram Bullock - Way Kool\n",
      "2016-12-04 15:56:38,725 - scrapediscogs - INFO - add_data: 51/59 - Hiram Bullock - Give It What U Got\n",
      "2016-12-04 15:56:39,545 - scrapediscogs - INFO - add_data: 52/59 - Hiram Bullock - Try Livin' It\n",
      "2016-12-04 15:56:40,095 - scrapediscogs - INFO - add_data: 53/59 - Everette Harp - Common Ground\n",
      "2016-12-04 15:56:40,904 - scrapediscogs - INFO - add_data: 54/59 - Roy Hargrove Quintet - With The Tenors Of Our Time\n",
      "2016-12-04 15:56:41,506 - scrapediscogs - INFO - add_data: 55/59 - The Dave Brubeck Quartet - Time Out\n",
      "2016-12-04 15:56:42,058 - scrapediscogs - INFO - add_data: 56/59 - Norman Brown - Celebration\n",
      "2016-12-04 15:56:42,593 - scrapediscogs - INFO - add_data: 57/59 - The Brecker Brothers - Pricelss Jazz Collection Brecker Brothers\n",
      "2016-12-04 15:56:43,122 - scrapediscogs - INFO - add_data: 58/59 - Randy Brecker - 34th N Lex\n",
      "2016-12-04 15:56:43,930 - scrapediscogs - INFO - add_data: 59/59 - Michael Brecker - Two Blocks From The Edge\n"
     ]
    }
   ],
   "source": [
    "music_db.add_data('albumsinput.txt')"
   ]
  },
  {
   "cell_type": "markdown",
   "metadata": {},
   "source": [
    "**Search the populated database for albums by a given artist:**"
   ]
  },
  {
   "cell_type": "code",
   "execution_count": 3,
   "metadata": {
    "collapsed": false
   },
   "outputs": [
    {
     "name": "stdout",
     "output_type": "stream",
     "text": [
      "----------------------------------------------------------------------\n",
      "[album ID]: 444360\n",
      "[album title]: Inside\n",
      "[artist ID]: 185751\n",
      "[artist name]: David Sanborn\n",
      "[year]: 1999\n",
      "[genres]: Jazz\n",
      "[notes]: \n",
      "[formats]: CD\n",
      "[track list]: Corners (For Herbie), Day Dreaming, Trance, Brother Ray, Lisa, When I'm With You, Naked Moon, Cane, Ain't No Sunshine, Miss You\n",
      "[track durations]: 4:50, 5:36, 5:02, 5:57, 4:33, 4:58, 5:41, 0:46, 4:12, 5:56\n",
      "[companies]: \n",
      "----------------------------------------------------------------------\n"
     ]
    }
   ],
   "source": [
    "results = music_db.find_albums_by_artist('David Sanborn')\n",
    "print results[0]"
   ]
  },
  {
   "cell_type": "markdown",
   "metadata": {},
   "source": [
    "**Search for album by name:**"
   ]
  },
  {
   "cell_type": "code",
   "execution_count": 4,
   "metadata": {
    "collapsed": false
   },
   "outputs": [
    {
     "name": "stdout",
     "output_type": "stream",
     "text": [
      "----------------------------------------------------------------------\n",
      "[album ID]: 2414116\n",
      "[album title]: The Call\n",
      "[artist ID]: 438165\n",
      "[artist name]: Seamus Blake\n",
      "[year]: 1994\n",
      "[genres]: Jazz\n",
      "[notes]: Recorded December 24, 1993\n",
      "[formats]: CD\n",
      "[track list]: Vanguard Blues I, The Call, Nobody's Song But His Own, On Cue, Prelude To A Kiss, Mercy Days, Zydeco, Smoke Gets In Your Eyes, Vanguard Blues II\n",
      "[track durations]: 7:15, 8:41, 9:29, 11:11, 5:22, 8:40, 9:05, 5:12, 10:33\n",
      "[companies]: \n",
      "----------------------------------------------------------------------\n"
     ]
    }
   ],
   "source": [
    "results = music_db.find_album(album_title = \"The Call\")\n",
    "print results[0]"
   ]
  },
  {
   "cell_type": "markdown",
   "metadata": {},
   "source": [
    "**Find all songs by a given artist**"
   ]
  },
  {
   "cell_type": "code",
   "execution_count": 5,
   "metadata": {
    "collapsed": false
   },
   "outputs": [
    {
     "name": "stdout",
     "output_type": "stream",
     "text": [
      "----------------------------------------------------------------------\n",
      "[track title]: Vanguard Blues I\n",
      "[artist ID]: 438165\n",
      "[artist name]: Seamus Blake\n",
      "[album ID]: 2414116\n",
      "[album title]: The Call\n",
      "[credits]: \n",
      "[duration]: 7:15\n",
      "[position]: 1\n",
      "----------------------------------------------------------------------\n",
      "----------------------------------------------------------------------\n",
      "[track title]: The Call\n",
      "[artist ID]: 438165\n",
      "[artist name]: Seamus Blake\n",
      "[album ID]: 2414116\n",
      "[album title]: The Call\n",
      "[credits]: \n",
      "[duration]: 8:41\n",
      "[position]: 2\n",
      "----------------------------------------------------------------------\n",
      "----------------------------------------------------------------------\n",
      "[track title]: Nobody's Song But His Own\n",
      "[artist ID]: 438165\n",
      "[artist name]: Seamus Blake\n",
      "[album ID]: 2414116\n",
      "[album title]: The Call\n",
      "[credits]: \n",
      "[duration]: 9:29\n",
      "[position]: 3\n",
      "----------------------------------------------------------------------\n",
      "----------------------------------------------------------------------\n",
      "[track title]: On Cue\n",
      "[artist ID]: 438165\n",
      "[artist name]: Seamus Blake\n",
      "[album ID]: 2414116\n",
      "[album title]: The Call\n",
      "[credits]: \n",
      "[duration]: 11:11\n",
      "[position]: 4\n",
      "----------------------------------------------------------------------\n",
      "----------------------------------------------------------------------\n",
      "[track title]: Prelude To A Kiss\n",
      "[artist ID]: 438165\n",
      "[artist name]: Seamus Blake\n",
      "[album ID]: 2414116\n",
      "[album title]: The Call\n",
      "[credits]: 145257 - Duke Ellington, 699212 - Irving Gordon, 307446 - Irving Mills\n",
      "[duration]: 5:22\n",
      "[position]: 5\n",
      "----------------------------------------------------------------------\n",
      "----------------------------------------------------------------------\n",
      "[track title]: Mercy Days\n",
      "[artist ID]: 438165\n",
      "[artist name]: Seamus Blake\n",
      "[album ID]: 2414116\n",
      "[album title]: The Call\n",
      "[credits]: \n",
      "[duration]: 8:40\n",
      "[position]: 6\n",
      "----------------------------------------------------------------------\n",
      "----------------------------------------------------------------------\n",
      "[track title]: Zydeco\n",
      "[artist ID]: 438165\n",
      "[artist name]: Seamus Blake\n",
      "[album ID]: 2414116\n",
      "[album title]: The Call\n",
      "[credits]: \n",
      "[duration]: 9:05\n",
      "[position]: 7\n",
      "----------------------------------------------------------------------\n",
      "----------------------------------------------------------------------\n",
      "[track title]: Smoke Gets In Your Eyes\n",
      "[artist ID]: 438165\n",
      "[artist name]: Seamus Blake\n",
      "[album ID]: 2414116\n",
      "[album title]: The Call\n",
      "[credits]: 166685 - Jerome Kern\n",
      "[duration]: 5:12\n",
      "[position]: 8\n",
      "----------------------------------------------------------------------\n",
      "----------------------------------------------------------------------\n",
      "[track title]: Vanguard Blues II\n",
      "[artist ID]: 438165\n",
      "[artist name]: Seamus Blake\n",
      "[album ID]: 2414116\n",
      "[album title]: The Call\n",
      "[credits]: \n",
      "[duration]: 10:33\n",
      "[position]: 9\n",
      "----------------------------------------------------------------------\n"
     ]
    }
   ],
   "source": [
    "results = music_db.find_songs_by_album_artist(\"Seamus Blake\")\n",
    "for r in results:\n",
    "        print r"
   ]
  },
  {
   "cell_type": "markdown",
   "metadata": {},
   "source": [
    "**Find songs containing a given substring (uses the LIKE operator in SQL):**"
   ]
  },
  {
   "cell_type": "code",
   "execution_count": 6,
   "metadata": {
    "collapsed": false
   },
   "outputs": [
    {
     "name": "stdout",
     "output_type": "stream",
     "text": [
      "----------------------------------------------------------------------\n",
      "[track title]: Reunion Blues\n",
      "[artist ID]: 96442\n",
      "[artist name]: Benny Green\n",
      "[album ID]: 8542565\n",
      "[album title]: Bluebird\n",
      "[credits]: 149254 - Milt Jackson\n",
      "[duration]: 6:16\n",
      "[position]: 1\n",
      "----------------------------------------------------------------------\n",
      "----------------------------------------------------------------------\n",
      "[track title]: The Intimacy Of The Blues\n",
      "[artist ID]: 96442\n",
      "[artist name]: Benny Green\n",
      "[album ID]: 1499442\n",
      "[album title]: Jazz At The Bistro\n",
      "[credits]: \n",
      "[duration]: 6:44\n",
      "[position]: 8\n",
      "----------------------------------------------------------------------\n",
      "----------------------------------------------------------------------\n",
      "[track title]: The Intimacy Of The Blues (Alternate Take)\n",
      "[artist ID]: 96442\n",
      "[artist name]: Benny Green\n",
      "[album ID]: 1499442\n",
      "[album title]: Jazz At The Bistro\n",
      "[credits]: \n",
      "[duration]: 6:08\n",
      "[position]: 15\n",
      "----------------------------------------------------------------------\n",
      "----------------------------------------------------------------------\n",
      "[track title]: Vanguard Blues I\n",
      "[artist ID]: 438165\n",
      "[artist name]: Seamus Blake\n",
      "[album ID]: 2414116\n",
      "[album title]: The Call\n",
      "[credits]: \n",
      "[duration]: 7:15\n",
      "[position]: 1\n",
      "----------------------------------------------------------------------\n",
      "----------------------------------------------------------------------\n",
      "[track title]: Vanguard Blues II\n",
      "[artist ID]: 438165\n",
      "[artist name]: Seamus Blake\n",
      "[album ID]: 2414116\n",
      "[album title]: The Call\n",
      "[credits]: \n",
      "[duration]: 10:33\n",
      "[position]: 9\n",
      "----------------------------------------------------------------------\n",
      "----------------------------------------------------------------------\n",
      "[track title]: Carl's Blues\n",
      "[artist ID]: 3724842\n",
      "[artist name]: The Benny Green Trio\n",
      "[album ID]: 7027618\n",
      "[album title]: Testifyin'!\n",
      "[credits]: \n",
      "[duration]: 5:14\n",
      "[position]: 7\n",
      "----------------------------------------------------------------------\n",
      "----------------------------------------------------------------------\n",
      "[track title]: Polite Blues\n",
      "[artist ID]: 258701\n",
      "[artist name]: Benny Carter\n",
      "[album ID]: 2813131\n",
      "[album title]: New Jazz Sounds: The Urbane Sessions\n",
      "[credits]: \n",
      "[duration]: \n",
      "[position]: 2-5\n",
      "----------------------------------------------------------------------\n",
      "----------------------------------------------------------------------\n",
      "[track title]: The Marriage Blues\n",
      "[artist ID]: 258701\n",
      "[artist name]: Benny Carter\n",
      "[album ID]: 2813131\n",
      "[album title]: New Jazz Sounds: The Urbane Sessions\n",
      "[credits]: \n",
      "[duration]: \n",
      "[position]: 2-15\n",
      "----------------------------------------------------------------------\n",
      "----------------------------------------------------------------------\n",
      "[track title]: Saturday Night Blues\n",
      "[artist ID]: 30184\n",
      "[artist name]: Kenny Burrell\n",
      "[album ID]: 5504237\n",
      "[album title]: Midnight Blue\n",
      "[credits]: 30184 - Kenny Burrell\n",
      "[duration]: 6:15\n",
      "[position]: B3\n",
      "----------------------------------------------------------------------\n",
      "----------------------------------------------------------------------\n",
      "[track title]: Delta City Blues\n",
      "[artist ID]: 135847\n",
      "[artist name]: Michael Brecker\n",
      "[album ID]: 2518637\n",
      "[album title]: Two Blocks From The Edge\n",
      "[credits]: 135847 - Michael Brecker\n",
      "[duration]: 5:37\n",
      "[position]: 8\n",
      "----------------------------------------------------------------------\n"
     ]
    }
   ],
   "source": [
    "results = music_db.find_song('blues')\n",
    "for r in results:\n",
    "        print r"
   ]
  }
 ],
 "metadata": {
  "kernelspec": {
   "display_name": "Python 2",
   "language": "python",
   "name": "python2"
  },
  "language_info": {
   "codemirror_mode": {
    "name": "ipython",
    "version": 2
   },
   "file_extension": ".py",
   "mimetype": "text/x-python",
   "name": "python",
   "nbconvert_exporter": "python",
   "pygments_lexer": "ipython2",
   "version": "2.7.12"
  }
 },
 "nbformat": 4,
 "nbformat_minor": 2
}
