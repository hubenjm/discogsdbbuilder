{
 "cells": [
  {
   "cell_type": "markdown",
   "metadata": {},
   "source": [
    "**discogs_client brief overview:**"
   ]
  },
  {
   "cell_type": "code",
   "execution_count": 1,
   "metadata": {
    "collapsed": true
   },
   "outputs": [],
   "source": [
    "import discogs_client"
   ]
  },
  {
   "cell_type": "code",
   "execution_count": 4,
   "metadata": {
    "collapsed": true
   },
   "outputs": [],
   "source": [
    "token = open('./token.txt').readline().strip()"
   ]
  },
  {
   "cell_type": "code",
   "execution_count": 5,
   "metadata": {
    "collapsed": false
   },
   "outputs": [
    {
     "name": "stdout",
     "output_type": "stream",
     "text": [
      "EzkFoLQvrTrRmCbIsThgDPVoCjpxiKDMTDTvlyzL\n"
     ]
    }
   ],
   "source": [
    "print token"
   ]
  },
  {
   "cell_type": "code",
   "execution_count": 6,
   "metadata": {
    "collapsed": true
   },
   "outputs": [],
   "source": [
    "d = discogs_client.Client('MusicDBCreater/0.1', user_token=token)"
   ]
  },
  {
   "cell_type": "markdown",
   "metadata": {},
   "source": [
    "**Search for a particular release:**"
   ]
  },
  {
   "cell_type": "code",
   "execution_count": 75,
   "metadata": {
    "collapsed": true
   },
   "outputs": [],
   "source": [
    "results = d.search('Bob Dylan - Time Out of Mind', type = 'release')"
   ]
  },
  {
   "cell_type": "code",
   "execution_count": 76,
   "metadata": {
    "collapsed": false
   },
   "outputs": [
    {
     "data": {
      "text/plain": [
       "discogs_client.models.MixedPaginatedList"
      ]
     },
     "execution_count": 76,
     "metadata": {},
     "output_type": "execute_result"
    }
   ],
   "source": [
    "type(results)"
   ]
  },
  {
   "cell_type": "code",
   "execution_count": 77,
   "metadata": {
    "collapsed": false
   },
   "outputs": [
    {
     "data": {
      "text/plain": [
       "201"
      ]
     },
     "execution_count": 77,
     "metadata": {},
     "output_type": "execute_result"
    }
   ],
   "source": [
    "len(results)"
   ]
  },
  {
   "cell_type": "code",
   "execution_count": 78,
   "metadata": {
    "collapsed": false
   },
   "outputs": [
    {
     "name": "stdout",
     "output_type": "stream",
     "text": [
      "<class 'discogs_client.models.Release'> <Release 954191 u'Bob Dylan - Time Out Of Mind'>\n"
     ]
    }
   ],
   "source": [
    "print type(results[0]), results[0]"
   ]
  },
  {
   "cell_type": "markdown",
   "metadata": {},
   "source": [
    "**Go to https://github.com/discogs/discogs_client/blob/master/discogs_client/models.py to find out about the different API objects, including the Release class object**"
   ]
  },
  {
   "cell_type": "code",
   "execution_count": 79,
   "metadata": {
    "collapsed": true
   },
   "outputs": [],
   "source": [
    "r = results[0]"
   ]
  },
  {
   "cell_type": "code",
   "execution_count": 80,
   "metadata": {
    "collapsed": false
   },
   "outputs": [
    {
     "name": "stdout",
     "output_type": "stream",
     "text": [
      "Bob Dylan - Time Out Of Mind\n"
     ]
    }
   ],
   "source": [
    "print r.title"
   ]
  },
  {
   "cell_type": "code",
   "execution_count": 81,
   "metadata": {
    "collapsed": false
   },
   "outputs": [
    {
     "name": "stdout",
     "output_type": "stream",
     "text": [
      "1997\n"
     ]
    }
   ],
   "source": [
    "print r.year"
   ]
  },
  {
   "cell_type": "code",
   "execution_count": 82,
   "metadata": {
    "collapsed": false
   },
   "outputs": [
    {
     "name": "stdout",
     "output_type": "stream",
     "text": [
      "<Artist 59792 u'Bob Dylan'>\n"
     ]
    }
   ],
   "source": [
    "print r.artists[0]"
   ]
  },
  {
   "cell_type": "code",
   "execution_count": 83,
   "metadata": {
    "collapsed": false
   },
   "outputs": [
    {
     "name": "stdout",
     "output_type": "stream",
     "text": [
      "[u'Rock', u'Blues']\n"
     ]
    }
   ],
   "source": [
    "print r.genres"
   ]
  },
  {
   "cell_type": "code",
   "execution_count": 84,
   "metadata": {
    "collapsed": false
   },
   "outputs": [
    {
     "name": "stdout",
     "output_type": "stream",
     "text": [
      "[<Artist 952565 u'Robert Britt'>, <Artist 217325 u'Bucky Baxter'>, <Artist 855990 u'Geoff Gans'>, <Artist 252331 u'Brian Blade'>, <Artist 315825 u'David Kemper'>, <Artist 194118 u'Jim Keltner'>, <Artist 503204 u'Winston Watson'>, <Artist 287861 u'Tony Garnier'>, <Artist 186383 u'Mark Howard'>, <Artist 952563 u'Chris Carrol'>, <Artist 357703 u'Duke Robillard'>, <Artist 59792 u'Bob Dylan'>, <Artist 23858 u'Daniel Lanois'>, <Artist 135966 u'Jim Dickinson'>, <Artist 315828 u'Augie Meyers'>, <Artist 162515 u'Tony Mangurian'>, <Artist 23858 u'Daniel Lanois'>, <Artist 2639407 u'K. Dalka'>, <Artist 1836999 u'Mark Seliger'>, <Artist 2236634 u'Suzie-Q'>, <Artist 23858 u'Daniel Lanois'>, <Artist 315830 u'Jack Frost (2)'>, <Artist 663136 u'Cindy Cashdollar'>, <Artist 59792 u'Bob Dylan'>]\n"
     ]
    }
   ],
   "source": [
    "print r.credits"
   ]
  },
  {
   "cell_type": "code",
   "execution_count": 85,
   "metadata": {
    "collapsed": false
   },
   "outputs": [
    {
     "name": "stdout",
     "output_type": "stream",
     "text": [
      "A1\n"
     ]
    }
   ],
   "source": [
    "print r.tracklist[0].position"
   ]
  },
  {
   "cell_type": "code",
   "execution_count": 86,
   "metadata": {
    "collapsed": false
   },
   "outputs": [
    {
     "name": "stdout",
     "output_type": "stream",
     "text": [
      "[{u'descriptions': [u'LP', u'Album'], u'name': u'Vinyl', u'qty': u'2'}]\n"
     ]
    }
   ],
   "source": [
    "print r.formats"
   ]
  },
  {
   "cell_type": "code",
   "execution_count": 87,
   "metadata": {
    "collapsed": false
   },
   "outputs": [
    {
     "name": "stdout",
     "output_type": "stream",
     "text": [
      "1\n"
     ]
    }
   ],
   "source": [
    "print results[2].tracklist[0].position"
   ]
  },
  {
   "cell_type": "code",
   "execution_count": 88,
   "metadata": {
    "collapsed": false
   },
   "outputs": [
    {
     "name": "stdout",
     "output_type": "stream",
     "text": [
      "[<Label 19795 u'Sony Music Entertainment Inc.'>, <Label 19795 u'Sony Music Entertainment Inc.'>, <Label 269412 u'Criteria Recording Studios'>, <Label 358950 u'Teatro Studios'>, <Label 93330 u'Columbia Records'>]\n"
     ]
    }
   ],
   "source": [
    "print r.companies"
   ]
  },
  {
   "cell_type": "code",
   "execution_count": 89,
   "metadata": {
    "collapsed": false
   },
   "outputs": [
    {
     "name": "stdout",
     "output_type": "stream",
     "text": [
      "[<Label 1866 u'Columbia'>, <Label 1866 u'Columbia'>]\n"
     ]
    }
   ],
   "source": [
    "print r.labels"
   ]
  },
  {
   "cell_type": "code",
   "execution_count": 90,
   "metadata": {
    "collapsed": false
   },
   "outputs": [
    {
     "name": "stdout",
     "output_type": "stream",
     "text": [
      "954191\n"
     ]
    }
   ],
   "source": [
    "print r.id"
   ]
  },
  {
   "cell_type": "markdown",
   "metadata": {},
   "source": [
    "**Can go to https://www.discogs.com/Bob-Dylan-Time-Out-Of-Mind/release/954191 to check the given release and how this information appears on their website**"
   ]
  },
  {
   "cell_type": "code",
   "execution_count": null,
   "metadata": {
    "collapsed": true
   },
   "outputs": [],
   "source": []
  }
 ],
 "metadata": {
  "kernelspec": {
   "display_name": "Python 2",
   "language": "python",
   "name": "python2"
  },
  "language_info": {
   "codemirror_mode": {
    "name": "ipython",
    "version": 2
   },
   "file_extension": ".py",
   "mimetype": "text/x-python",
   "name": "python",
   "nbconvert_exporter": "python",
   "pygments_lexer": "ipython2",
   "version": "2.7.12"
  }
 },
 "nbformat": 4,
 "nbformat_minor": 2
}
